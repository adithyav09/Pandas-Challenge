{
 "cells": [
  {
   "cell_type": "markdown",
   "metadata": {},
   "source": [
    "### Observable Trends:\n",
    "* Males seem to be the majority of the players compared to females and other/non-disclosed as Males consist of roughly 84% of the majority and the remaining female/other-nondisclosed consist of 16%.\n",
    "* Although Male consist of the majority of the players, the average purchase price for the items for other/non-disclosed was higher (3.35) than male and female groups (3.02 and 3.20 respectively).\n",
    "* Majority of the people who bought the items were in the range 15-29 (young teenagers to young adults: 76.74% total makeup) and the percentages decrease significantly in higher age groups ().\n"
   ]
  },
  {
   "cell_type": "markdown",
   "metadata": {},
   "source": [
    "### Note\n",
    "* Instructions have been included for each segment. You do not have to follow them exactly, but they are included to help you think through the steps."
   ]
  },
  {
   "cell_type": "code",
   "execution_count": 97,
   "metadata": {},
   "outputs": [],
   "source": [
    "# Dependencies and Setup\n",
    "import pandas as pd\n",
    "\n",
    "# File to Load (Remember to Change These)\n",
    "file_to_load = \"Resources/purchase_data.csv\"\n",
    "\n",
    "# Read Purchasing File and store int`o Pandas data frame\n",
    "purchase_data = pd.read_csv(file_to_load)"
   ]
  },
  {
   "cell_type": "markdown",
   "metadata": {},
   "source": [
    "## Player Count"
   ]
  },
  {
   "cell_type": "markdown",
   "metadata": {},
   "source": [
    "* Display the total number of players\n"
   ]
  },
  {
   "cell_type": "code",
   "execution_count": 98,
   "metadata": {},
   "outputs": [
    {
     "data": {
      "text/html": [
       "<div>\n",
       "<style scoped>\n",
       "    .dataframe tbody tr th:only-of-type {\n",
       "        vertical-align: middle;\n",
       "    }\n",
       "\n",
       "    .dataframe tbody tr th {\n",
       "        vertical-align: top;\n",
       "    }\n",
       "\n",
       "    .dataframe thead th {\n",
       "        text-align: right;\n",
       "    }\n",
       "</style>\n",
       "<table border=\"1\" class=\"dataframe\">\n",
       "  <thead>\n",
       "    <tr style=\"text-align: right;\">\n",
       "      <th></th>\n",
       "      <th>Total Players</th>\n",
       "    </tr>\n",
       "  </thead>\n",
       "  <tbody>\n",
       "    <tr>\n",
       "      <th>0</th>\n",
       "      <td>576</td>\n",
       "    </tr>\n",
       "  </tbody>\n",
       "</table>\n",
       "</div>"
      ],
      "text/plain": [
       "   Total Players\n",
       "0            576"
      ]
     },
     "execution_count": 98,
     "metadata": {},
     "output_type": "execute_result"
    }
   ],
   "source": [
    "#Used the unique() function to rid of the repeated 'SN'.\n",
    "#Stored into a Dataframe so I can use the count() function for later.\n",
    "Total_Players = pd.DataFrame(purchase_data[\"SN\"].unique())\n",
    "\n",
    "#Used the count() function to get a total count of the players. \n",
    "#Assigned necessary 'key'/'value' pair to return final Dataframe output\n",
    "Total_Players = pd.DataFrame({\"Total Players\": Total_Players.count()})\n",
    "\n",
    "Total_Players"
   ]
  },
  {
   "cell_type": "markdown",
   "metadata": {},
   "source": [
    "## Purchasing Analysis (Total)"
   ]
  },
  {
   "cell_type": "markdown",
   "metadata": {},
   "source": [
    "* Run basic calculations to obtain number of unique items, average price, etc.\n",
    "\n",
    "\n",
    "* Create a summary data frame to hold the results\n",
    "\n",
    "\n",
    "* Optional: give the displayed data cleaner formatting\n",
    "\n",
    "\n",
    "* Display the summary data frame\n"
   ]
  },
  {
   "cell_type": "code",
   "execution_count": 99,
   "metadata": {
    "scrolled": true
   },
   "outputs": [
    {
     "data": {
      "text/html": [
       "<div>\n",
       "<style scoped>\n",
       "    .dataframe tbody tr th:only-of-type {\n",
       "        vertical-align: middle;\n",
       "    }\n",
       "\n",
       "    .dataframe tbody tr th {\n",
       "        vertical-align: top;\n",
       "    }\n",
       "\n",
       "    .dataframe thead th {\n",
       "        text-align: right;\n",
       "    }\n",
       "</style>\n",
       "<table border=\"1\" class=\"dataframe\">\n",
       "  <thead>\n",
       "    <tr style=\"text-align: right;\">\n",
       "      <th></th>\n",
       "      <th>Number of Unique Items</th>\n",
       "      <th>Average Price</th>\n",
       "      <th>Number of Purchases</th>\n",
       "      <th>Total Revenue</th>\n",
       "    </tr>\n",
       "  </thead>\n",
       "  <tbody>\n",
       "    <tr>\n",
       "      <th>0</th>\n",
       "      <td>179</td>\n",
       "      <td>$3.05</td>\n",
       "      <td>780</td>\n",
       "      <td>$2,379.77</td>\n",
       "    </tr>\n",
       "  </tbody>\n",
       "</table>\n",
       "</div>"
      ],
      "text/plain": [
       "   Number of Unique Items Average Price  Number of Purchases Total Revenue\n",
       "0                     179         $3.05                  780     $2,379.77"
      ]
     },
     "execution_count": 99,
     "metadata": {},
     "output_type": "execute_result"
    }
   ],
   "source": [
    "#Got the unique items by using unique() for the Item Names.\n",
    "UniqueItems = purchase_data[\"Item Name\"].unique()\n",
    "\n",
    "#Stored UniqueItems into Dataframe so I can perform the count functions and get final result.\n",
    "NumUniqueItems = pd.DataFrame(UniqueItems).count()\n",
    "\n",
    "#Used mean() function to calculate Avgerage Price under Price Column.\n",
    "AvgPrice = purchase_data[\"Price\"].mean()\n",
    "\n",
    "#Used count function to give the total count of Purchases by using the Purchase ID's column\n",
    "#since every purchase had a Purchase ID.\n",
    "NumPurch = purchase_data[\"Purchase ID\"].count()\n",
    "\n",
    "#Total Revenue was calculated by using the sum() function of all the values under the Price Columns.\n",
    "TotRev = purchase_data[\"Price\"].sum()\n",
    "\n",
    "#Finally I stored all my variables as as 'values' in the dictionary with its corresponding 'key' title\n",
    "#then stored that into a Dataframe and outputted with the desired format.\n",
    "Purchasing_Analysis_Total = pd.DataFrame({\"Number of Unique Items\": NumUniqueItems, \n",
    "                   \"Average Price\": f\"${AvgPrice.round(2)}\",\n",
    "                   \"Number of Purchases\": NumPurch,\n",
    "                   \"Total Revenue\": \"${:,.2f}\".format(TotRev)\n",
    "                  })\n",
    "\n",
    "Purchasing_Analysis_Total"
   ]
  },
  {
   "cell_type": "markdown",
   "metadata": {},
   "source": [
    "## Gender Demographics"
   ]
  },
  {
   "cell_type": "markdown",
   "metadata": {},
   "source": [
    "* Percentage and Count of Male Players\n",
    "\n",
    "\n",
    "* Percentage and Count of Female Players\n",
    "\n",
    "\n",
    "* Percentage and Count of Other / Non-Disclosed\n",
    "\n",
    "\n"
   ]
  },
  {
   "cell_type": "code",
   "execution_count": 100,
   "metadata": {},
   "outputs": [
    {
     "data": {
      "text/html": [
       "<style  type=\"text/css\" >\n",
       "</style><table id=\"T_71d1d338_c51d_11ea_b626_88e9fe7ae62f\" ><thead>    <tr>        <th class=\"blank level0\" ></th>        <th class=\"col_heading level0 col0\" >Total Count</th>        <th class=\"col_heading level0 col1\" >Percentage of Players</th>    </tr></thead><tbody>\n",
       "                <tr>\n",
       "                        <th id=\"T_71d1d338_c51d_11ea_b626_88e9fe7ae62flevel0_row0\" class=\"row_heading level0 row0\" >Male</th>\n",
       "                        <td id=\"T_71d1d338_c51d_11ea_b626_88e9fe7ae62frow0_col0\" class=\"data row0 col0\" >484</td>\n",
       "                        <td id=\"T_71d1d338_c51d_11ea_b626_88e9fe7ae62frow0_col1\" class=\"data row0 col1\" >84.03%</td>\n",
       "            </tr>\n",
       "            <tr>\n",
       "                        <th id=\"T_71d1d338_c51d_11ea_b626_88e9fe7ae62flevel0_row1\" class=\"row_heading level0 row1\" >Female</th>\n",
       "                        <td id=\"T_71d1d338_c51d_11ea_b626_88e9fe7ae62frow1_col0\" class=\"data row1 col0\" >81</td>\n",
       "                        <td id=\"T_71d1d338_c51d_11ea_b626_88e9fe7ae62frow1_col1\" class=\"data row1 col1\" >14.06%</td>\n",
       "            </tr>\n",
       "            <tr>\n",
       "                        <th id=\"T_71d1d338_c51d_11ea_b626_88e9fe7ae62flevel0_row2\" class=\"row_heading level0 row2\" >Other / Non-Disclosed</th>\n",
       "                        <td id=\"T_71d1d338_c51d_11ea_b626_88e9fe7ae62frow2_col0\" class=\"data row2 col0\" >11</td>\n",
       "                        <td id=\"T_71d1d338_c51d_11ea_b626_88e9fe7ae62frow2_col1\" class=\"data row2 col1\" >1.91%</td>\n",
       "            </tr>\n",
       "    </tbody></table>"
      ],
      "text/plain": [
       "<pandas.io.formats.style.Styler at 0x112a57410>"
      ]
     },
     "execution_count": 100,
     "metadata": {},
     "output_type": "execute_result"
    }
   ],
   "source": [
    "#Used the groupby() function for 'SN' and 'Gender' as those are the two primary things being delt with.\n",
    "#Assigned it to Condensed so I can manipulate the data further.\n",
    "Condensed = purchase_data.groupby(['SN','Gender']).count().reset_index()\n",
    "\n",
    "#Found the count of  of the Condensed 'SN' to rid of repeated 'SN'\n",
    "Total= Condensed[\"SN\"].count()\n",
    "\n",
    "#Found the Total Count of each based on 3 Gender categories.\n",
    "Gender_Count = Condensed[\"Gender\"].value_counts()\n",
    "\n",
    "#Displayed percentage makeup of each, relative to all individuals and divided by Total to get percentage.\n",
    "Percentage_of_Players = Gender_Count/ Total * 100\n",
    "\n",
    "#Put all the variables into Dataframe accordingly by using dictionary.\n",
    "Gender_Demographics = pd.DataFrame({\"Total Count\": Gender_Count,\n",
    "                          \"Percentage of Players\": Percentage_of_Players}\n",
    "                         ,index = [\"Male\", \"Female\", \"Other / Non-Disclosed\"])\n",
    "\n",
    "#Formatted for 'Percentage of Players' to have percentage sign and rounded two decimal places.\n",
    "Gender_Demographics = Gender_Demographics.style.format({\"Percentage of Players\": \"{0:.2f}%\"})\n",
    "\n",
    "Gender_Demographics"
   ]
  },
  {
   "cell_type": "markdown",
   "metadata": {},
   "source": [
    "\n",
    "## Purchasing Analysis (Gender)"
   ]
  },
  {
   "cell_type": "markdown",
   "metadata": {},
   "source": [
    "* Run basic calculations to obtain purchase count, avg. purchase price, avg. purchase total per person etc. by gender\n",
    "\n",
    "\n",
    "\n",
    "\n",
    "* Create a summary data frame to hold the results\n",
    "\n",
    "\n",
    "* Optional: give the displayed data cleaner formatting\n",
    "\n",
    "\n",
    "* Display the summary data frame"
   ]
  },
  {
   "cell_type": "code",
   "execution_count": 101,
   "metadata": {},
   "outputs": [
    {
     "data": {
      "text/html": [
       "<style  type=\"text/css\" >\n",
       "</style><table id=\"T_7250669e_c51d_11ea_b626_88e9fe7ae62f\" ><thead>    <tr>        <th class=\"blank level0\" ></th>        <th class=\"col_heading level0 col0\" >Purchase Count</th>        <th class=\"col_heading level0 col1\" >Average Purchase Price</th>        <th class=\"col_heading level0 col2\" >Total Purchase Value</th>        <th class=\"col_heading level0 col3\" >Average Total Purchase Per Person</th>    </tr>    <tr>        <th class=\"index_name level0\" >Gender</th>        <th class=\"blank\" ></th>        <th class=\"blank\" ></th>        <th class=\"blank\" ></th>        <th class=\"blank\" ></th>    </tr></thead><tbody>\n",
       "                <tr>\n",
       "                        <th id=\"T_7250669e_c51d_11ea_b626_88e9fe7ae62flevel0_row0\" class=\"row_heading level0 row0\" >Female</th>\n",
       "                        <td id=\"T_7250669e_c51d_11ea_b626_88e9fe7ae62frow0_col0\" class=\"data row0 col0\" >113</td>\n",
       "                        <td id=\"T_7250669e_c51d_11ea_b626_88e9fe7ae62frow0_col1\" class=\"data row0 col1\" >$3.20</td>\n",
       "                        <td id=\"T_7250669e_c51d_11ea_b626_88e9fe7ae62frow0_col2\" class=\"data row0 col2\" >$361.60</td>\n",
       "                        <td id=\"T_7250669e_c51d_11ea_b626_88e9fe7ae62frow0_col3\" class=\"data row0 col3\" >$4.47</td>\n",
       "            </tr>\n",
       "            <tr>\n",
       "                        <th id=\"T_7250669e_c51d_11ea_b626_88e9fe7ae62flevel0_row1\" class=\"row_heading level0 row1\" >Male</th>\n",
       "                        <td id=\"T_7250669e_c51d_11ea_b626_88e9fe7ae62frow1_col0\" class=\"data row1 col0\" >652</td>\n",
       "                        <td id=\"T_7250669e_c51d_11ea_b626_88e9fe7ae62frow1_col1\" class=\"data row1 col1\" >$3.02</td>\n",
       "                        <td id=\"T_7250669e_c51d_11ea_b626_88e9fe7ae62frow1_col2\" class=\"data row1 col2\" >$1969.04</td>\n",
       "                        <td id=\"T_7250669e_c51d_11ea_b626_88e9fe7ae62frow1_col3\" class=\"data row1 col3\" >$4.07</td>\n",
       "            </tr>\n",
       "            <tr>\n",
       "                        <th id=\"T_7250669e_c51d_11ea_b626_88e9fe7ae62flevel0_row2\" class=\"row_heading level0 row2\" >Other / Non-Disclosed</th>\n",
       "                        <td id=\"T_7250669e_c51d_11ea_b626_88e9fe7ae62frow2_col0\" class=\"data row2 col0\" >15</td>\n",
       "                        <td id=\"T_7250669e_c51d_11ea_b626_88e9fe7ae62frow2_col1\" class=\"data row2 col1\" >$3.35</td>\n",
       "                        <td id=\"T_7250669e_c51d_11ea_b626_88e9fe7ae62frow2_col2\" class=\"data row2 col2\" >$50.25</td>\n",
       "                        <td id=\"T_7250669e_c51d_11ea_b626_88e9fe7ae62frow2_col3\" class=\"data row2 col3\" >$4.56</td>\n",
       "            </tr>\n",
       "    </tbody></table>"
      ],
      "text/plain": [
       "<pandas.io.formats.style.Styler at 0x112a47c50>"
      ]
     },
     "execution_count": 101,
     "metadata": {},
     "output_type": "execute_result"
    }
   ],
   "source": [
    "#Gathered columnns for original dataframe that are going to be used to manipulate and assigned to df.\n",
    "df = purchase_data[[\"SN\",\"Gender\",\"Price\",\"Purchase ID\"]]\n",
    "\n",
    "#groupby() Gender to find corresponding values for each\n",
    "df = df.groupby([\"Gender\"])\n",
    "\n",
    "#Calculated each columns value by accessing the df's Purchase ID and Price and used a function to find count and Avg Price.\n",
    "#Multiplied the resulting variables to get Total Purcahse Value.\n",
    "Purchase_Count = df[\"Purchase ID\"].count()\n",
    "Average_Purchase_Price = df[\"Price\"].mean().round(2)\n",
    "Total_Purchase_Value = Average_Purchase_Price * Purchase_Count\n",
    "\n",
    "#Calculations for 'Average Total Purchase Per Person column' by finding the sum of \n",
    "#the price column and dividing by gender count in previous example.\n",
    "Average_Total_Purchase = df[\"Price\"].sum()\n",
    "Avg_Total_Purch_Per_Person = Average_Total_Purchase / Gender_Count\n",
    "\n",
    "#Put all the variables into corresponding Dataframe.\n",
    "df = pd.DataFrame({\"Purchase Count\": Purchase_Count,\n",
    "              \"Average Purchase Price\": Average_Purchase_Price,\n",
    "              \"Total Purchase Value\":Total_Purchase_Value,\n",
    "              \"Average Total Purchase Per Person\": Avg_Total_Purch_Per_Person})\n",
    "\n",
    "#Formatted the variables for each column to have a dollar sign.\n",
    "df = df.style.format({\"Average Purchase Price\": \"${0:.2f}\", \n",
    "                 \"Total Purchase Value\": \"${0:.2f}\", \n",
    "                 \"Average Total Purchase Per Person\": \"${0:.2f}\"})\n",
    "\n",
    "df"
   ]
  },
  {
   "cell_type": "markdown",
   "metadata": {},
   "source": [
    "## Age Demographics"
   ]
  },
  {
   "cell_type": "markdown",
   "metadata": {},
   "source": [
    "* Establish bins for ages\n",
    "\n",
    "\n",
    "* Categorize the existing players using the age bins. Hint: use pd.cut()\n",
    "\n",
    "\n",
    "* Calculate the numbers and percentages by age group\n",
    "\n",
    "\n",
    "* Create a summary data frame to hold the results\n",
    "\n",
    "\n",
    "* Optional: round the percentage column to two decimal points\n",
    "\n",
    "\n",
    "* Display Age Demographics Table\n"
   ]
  },
  {
   "cell_type": "code",
   "execution_count": 108,
   "metadata": {},
   "outputs": [
    {
     "data": {
      "text/html": [
       "<style  type=\"text/css\" >\n",
       "</style><table id=\"T_7ae51122_c51f_11ea_b626_88e9fe7ae62f\" ><thead>    <tr>        <th class=\"blank level0\" ></th>        <th class=\"col_heading level0 col0\" >Total Count</th>        <th class=\"col_heading level0 col1\" >Percentage of Players</th>    </tr></thead><tbody>\n",
       "                <tr>\n",
       "                        <th id=\"T_7ae51122_c51f_11ea_b626_88e9fe7ae62flevel0_row0\" class=\"row_heading level0 row0\" ><10</th>\n",
       "                        <td id=\"T_7ae51122_c51f_11ea_b626_88e9fe7ae62frow0_col0\" class=\"data row0 col0\" >17</td>\n",
       "                        <td id=\"T_7ae51122_c51f_11ea_b626_88e9fe7ae62frow0_col1\" class=\"data row0 col1\" >2.95%</td>\n",
       "            </tr>\n",
       "            <tr>\n",
       "                        <th id=\"T_7ae51122_c51f_11ea_b626_88e9fe7ae62flevel0_row1\" class=\"row_heading level0 row1\" >10-14</th>\n",
       "                        <td id=\"T_7ae51122_c51f_11ea_b626_88e9fe7ae62frow1_col0\" class=\"data row1 col0\" >22</td>\n",
       "                        <td id=\"T_7ae51122_c51f_11ea_b626_88e9fe7ae62frow1_col1\" class=\"data row1 col1\" >3.82%</td>\n",
       "            </tr>\n",
       "            <tr>\n",
       "                        <th id=\"T_7ae51122_c51f_11ea_b626_88e9fe7ae62flevel0_row2\" class=\"row_heading level0 row2\" >15-19</th>\n",
       "                        <td id=\"T_7ae51122_c51f_11ea_b626_88e9fe7ae62frow2_col0\" class=\"data row2 col0\" >107</td>\n",
       "                        <td id=\"T_7ae51122_c51f_11ea_b626_88e9fe7ae62frow2_col1\" class=\"data row2 col1\" >18.58%</td>\n",
       "            </tr>\n",
       "            <tr>\n",
       "                        <th id=\"T_7ae51122_c51f_11ea_b626_88e9fe7ae62flevel0_row3\" class=\"row_heading level0 row3\" >20-24</th>\n",
       "                        <td id=\"T_7ae51122_c51f_11ea_b626_88e9fe7ae62frow3_col0\" class=\"data row3 col0\" >258</td>\n",
       "                        <td id=\"T_7ae51122_c51f_11ea_b626_88e9fe7ae62frow3_col1\" class=\"data row3 col1\" >44.79%</td>\n",
       "            </tr>\n",
       "            <tr>\n",
       "                        <th id=\"T_7ae51122_c51f_11ea_b626_88e9fe7ae62flevel0_row4\" class=\"row_heading level0 row4\" >25-29</th>\n",
       "                        <td id=\"T_7ae51122_c51f_11ea_b626_88e9fe7ae62frow4_col0\" class=\"data row4 col0\" >77</td>\n",
       "                        <td id=\"T_7ae51122_c51f_11ea_b626_88e9fe7ae62frow4_col1\" class=\"data row4 col1\" >13.37%</td>\n",
       "            </tr>\n",
       "            <tr>\n",
       "                        <th id=\"T_7ae51122_c51f_11ea_b626_88e9fe7ae62flevel0_row5\" class=\"row_heading level0 row5\" >30-34</th>\n",
       "                        <td id=\"T_7ae51122_c51f_11ea_b626_88e9fe7ae62frow5_col0\" class=\"data row5 col0\" >52</td>\n",
       "                        <td id=\"T_7ae51122_c51f_11ea_b626_88e9fe7ae62frow5_col1\" class=\"data row5 col1\" >9.03%</td>\n",
       "            </tr>\n",
       "            <tr>\n",
       "                        <th id=\"T_7ae51122_c51f_11ea_b626_88e9fe7ae62flevel0_row6\" class=\"row_heading level0 row6\" >35-39</th>\n",
       "                        <td id=\"T_7ae51122_c51f_11ea_b626_88e9fe7ae62frow6_col0\" class=\"data row6 col0\" >31</td>\n",
       "                        <td id=\"T_7ae51122_c51f_11ea_b626_88e9fe7ae62frow6_col1\" class=\"data row6 col1\" >5.38%</td>\n",
       "            </tr>\n",
       "            <tr>\n",
       "                        <th id=\"T_7ae51122_c51f_11ea_b626_88e9fe7ae62flevel0_row7\" class=\"row_heading level0 row7\" >40+</th>\n",
       "                        <td id=\"T_7ae51122_c51f_11ea_b626_88e9fe7ae62frow7_col0\" class=\"data row7 col0\" >12</td>\n",
       "                        <td id=\"T_7ae51122_c51f_11ea_b626_88e9fe7ae62frow7_col1\" class=\"data row7 col1\" >2.08%</td>\n",
       "            </tr>\n",
       "    </tbody></table>"
      ],
      "text/plain": [
       "<pandas.io.formats.style.Styler at 0x112a7d3d0>"
      ]
     },
     "execution_count": 108,
     "metadata": {},
     "output_type": "execute_result"
    }
   ],
   "source": [
    "#groupby() for 'SN' and 'Age' for further manipulation.\n",
    "purchase_data_groupby = purchase_data.groupby(['SN','Age']).count().reset_index()\n",
    "\n",
    "#Total receives the total count of 'SN' including the repeated.\n",
    "Total = purchase_data_groupby[\"SN\"].count()\n",
    "\n",
    "#Used binning to create my corresponding ranges to filter.\n",
    "bins = [0,9,14,19,24,29,34,39,200]\n",
    "\n",
    "#groups list used for labeling in the pd.cut function for the index to correspond with bins.\n",
    "groups = [\"<10\",\"10-14\",\"15-19\",\"20-24\",\"25-29\",\"30-34\",\"35-39\",\"40+\"]\n",
    "\n",
    "#used pd.cut function to filter the 'Age' based on given bins and did a value count to keep tally of individual range by age.\n",
    "Purchasing_Age= pd.cut(purchase_data_groupby['Age'], bins, labels = groups, include_lowest = True).value_counts()\n",
    "\n",
    "#Created Dataframe and added following variables: Purchasing_Age and Percentage_of_Players.\n",
    "Purchasing_Demographics = pd.DataFrame({\"Total Count\":Purchasing_Age}).sort_index()\n",
    "Percentage_of_Players = Purchasing_Age/ Total * 100\n",
    "Purchasing_Demographics[\"Percentage of Players\"] = Percentage_of_Players.round(2)\n",
    "\n",
    "#Used formatting to add the percentage sign at end of each 'Percentage of Players' column values.\n",
    "Purchasing_Demographics = Purchasing_Demographics.style.format({\"Percentage of Players\": \"{0:.2f}%\"})\n",
    "\n",
    "Purchasing_Demographics"
   ]
  },
  {
   "cell_type": "markdown",
   "metadata": {},
   "source": [
    "## Purchasing Analysis (Age)"
   ]
  },
  {
   "cell_type": "markdown",
   "metadata": {},
   "source": [
    "* Bin the purchase_data data frame by age\n",
    "\n",
    "\n",
    "* Run basic calculations to obtain purchase count, avg. purchase price, avg. purchase total per person etc. in the table below\n",
    "\n",
    "\n",
    "* Create a summary data frame to hold the results\n",
    "\n",
    "\n",
    "* Optional: give the displayed data cleaner formatting\n",
    "\n",
    "\n",
    "* Display the summary data frame"
   ]
  },
  {
   "cell_type": "code",
   "execution_count": 85,
   "metadata": {},
   "outputs": [
    {
     "data": {
      "text/html": [
       "<style  type=\"text/css\" >\n",
       "</style><table id=\"T_c2b88522_c51c_11ea_b626_88e9fe7ae62f\" ><thead>    <tr>        <th class=\"blank level0\" ></th>        <th class=\"col_heading level0 col0\" >Purchase Count</th>        <th class=\"col_heading level0 col1\" >Average Purchase Price</th>        <th class=\"col_heading level0 col2\" >Total Purchase Value</th>        <th class=\"col_heading level0 col3\" >Average Total Purchase Per Person</th>    </tr></thead><tbody>\n",
       "                <tr>\n",
       "                        <th id=\"T_c2b88522_c51c_11ea_b626_88e9fe7ae62flevel0_row0\" class=\"row_heading level0 row0\" ><10</th>\n",
       "                        <td id=\"T_c2b88522_c51c_11ea_b626_88e9fe7ae62frow0_col0\" class=\"data row0 col0\" >23</td>\n",
       "                        <td id=\"T_c2b88522_c51c_11ea_b626_88e9fe7ae62frow0_col1\" class=\"data row0 col1\" >$3.35</td>\n",
       "                        <td id=\"T_c2b88522_c51c_11ea_b626_88e9fe7ae62frow0_col2\" class=\"data row0 col2\" >$77.13</td>\n",
       "                        <td id=\"T_c2b88522_c51c_11ea_b626_88e9fe7ae62frow0_col3\" class=\"data row0 col3\" >$4.54</td>\n",
       "            </tr>\n",
       "            <tr>\n",
       "                        <th id=\"T_c2b88522_c51c_11ea_b626_88e9fe7ae62flevel0_row1\" class=\"row_heading level0 row1\" >10-14</th>\n",
       "                        <td id=\"T_c2b88522_c51c_11ea_b626_88e9fe7ae62frow1_col0\" class=\"data row1 col0\" >28</td>\n",
       "                        <td id=\"T_c2b88522_c51c_11ea_b626_88e9fe7ae62frow1_col1\" class=\"data row1 col1\" >$2.96</td>\n",
       "                        <td id=\"T_c2b88522_c51c_11ea_b626_88e9fe7ae62frow1_col2\" class=\"data row1 col2\" >$82.78</td>\n",
       "                        <td id=\"T_c2b88522_c51c_11ea_b626_88e9fe7ae62frow1_col3\" class=\"data row1 col3\" >$3.76</td>\n",
       "            </tr>\n",
       "            <tr>\n",
       "                        <th id=\"T_c2b88522_c51c_11ea_b626_88e9fe7ae62flevel0_row2\" class=\"row_heading level0 row2\" >15-19</th>\n",
       "                        <td id=\"T_c2b88522_c51c_11ea_b626_88e9fe7ae62frow2_col0\" class=\"data row2 col0\" >136</td>\n",
       "                        <td id=\"T_c2b88522_c51c_11ea_b626_88e9fe7ae62frow2_col1\" class=\"data row2 col1\" >$3.04</td>\n",
       "                        <td id=\"T_c2b88522_c51c_11ea_b626_88e9fe7ae62frow2_col2\" class=\"data row2 col2\" >$412.89</td>\n",
       "                        <td id=\"T_c2b88522_c51c_11ea_b626_88e9fe7ae62frow2_col3\" class=\"data row2 col3\" >$3.86</td>\n",
       "            </tr>\n",
       "            <tr>\n",
       "                        <th id=\"T_c2b88522_c51c_11ea_b626_88e9fe7ae62flevel0_row3\" class=\"row_heading level0 row3\" >20-24</th>\n",
       "                        <td id=\"T_c2b88522_c51c_11ea_b626_88e9fe7ae62frow3_col0\" class=\"data row3 col0\" >365</td>\n",
       "                        <td id=\"T_c2b88522_c51c_11ea_b626_88e9fe7ae62frow3_col1\" class=\"data row3 col1\" >$3.05</td>\n",
       "                        <td id=\"T_c2b88522_c51c_11ea_b626_88e9fe7ae62frow3_col2\" class=\"data row3 col2\" >$1114.06</td>\n",
       "                        <td id=\"T_c2b88522_c51c_11ea_b626_88e9fe7ae62frow3_col3\" class=\"data row3 col3\" >$4.32</td>\n",
       "            </tr>\n",
       "            <tr>\n",
       "                        <th id=\"T_c2b88522_c51c_11ea_b626_88e9fe7ae62flevel0_row4\" class=\"row_heading level0 row4\" >25-29</th>\n",
       "                        <td id=\"T_c2b88522_c51c_11ea_b626_88e9fe7ae62frow4_col0\" class=\"data row4 col0\" >101</td>\n",
       "                        <td id=\"T_c2b88522_c51c_11ea_b626_88e9fe7ae62frow4_col1\" class=\"data row4 col1\" >$2.90</td>\n",
       "                        <td id=\"T_c2b88522_c51c_11ea_b626_88e9fe7ae62frow4_col2\" class=\"data row4 col2\" >$293.00</td>\n",
       "                        <td id=\"T_c2b88522_c51c_11ea_b626_88e9fe7ae62frow4_col3\" class=\"data row4 col3\" >$3.81</td>\n",
       "            </tr>\n",
       "            <tr>\n",
       "                        <th id=\"T_c2b88522_c51c_11ea_b626_88e9fe7ae62flevel0_row5\" class=\"row_heading level0 row5\" >30-34</th>\n",
       "                        <td id=\"T_c2b88522_c51c_11ea_b626_88e9fe7ae62frow5_col0\" class=\"data row5 col0\" >73</td>\n",
       "                        <td id=\"T_c2b88522_c51c_11ea_b626_88e9fe7ae62frow5_col1\" class=\"data row5 col1\" >$2.93</td>\n",
       "                        <td id=\"T_c2b88522_c51c_11ea_b626_88e9fe7ae62frow5_col2\" class=\"data row5 col2\" >$214.00</td>\n",
       "                        <td id=\"T_c2b88522_c51c_11ea_b626_88e9fe7ae62frow5_col3\" class=\"data row5 col3\" >$4.12</td>\n",
       "            </tr>\n",
       "            <tr>\n",
       "                        <th id=\"T_c2b88522_c51c_11ea_b626_88e9fe7ae62flevel0_row6\" class=\"row_heading level0 row6\" >35-39</th>\n",
       "                        <td id=\"T_c2b88522_c51c_11ea_b626_88e9fe7ae62frow6_col0\" class=\"data row6 col0\" >41</td>\n",
       "                        <td id=\"T_c2b88522_c51c_11ea_b626_88e9fe7ae62frow6_col1\" class=\"data row6 col1\" >$3.60</td>\n",
       "                        <td id=\"T_c2b88522_c51c_11ea_b626_88e9fe7ae62frow6_col2\" class=\"data row6 col2\" >$147.67</td>\n",
       "                        <td id=\"T_c2b88522_c51c_11ea_b626_88e9fe7ae62frow6_col3\" class=\"data row6 col3\" >$4.76</td>\n",
       "            </tr>\n",
       "            <tr>\n",
       "                        <th id=\"T_c2b88522_c51c_11ea_b626_88e9fe7ae62flevel0_row7\" class=\"row_heading level0 row7\" >40+</th>\n",
       "                        <td id=\"T_c2b88522_c51c_11ea_b626_88e9fe7ae62frow7_col0\" class=\"data row7 col0\" >13</td>\n",
       "                        <td id=\"T_c2b88522_c51c_11ea_b626_88e9fe7ae62frow7_col1\" class=\"data row7 col1\" >$2.94</td>\n",
       "                        <td id=\"T_c2b88522_c51c_11ea_b626_88e9fe7ae62frow7_col2\" class=\"data row7 col2\" >$38.24</td>\n",
       "                        <td id=\"T_c2b88522_c51c_11ea_b626_88e9fe7ae62frow7_col3\" class=\"data row7 col3\" >$3.19</td>\n",
       "            </tr>\n",
       "    </tbody></table>"
      ],
      "text/plain": [
       "<pandas.io.formats.style.Styler at 0x11127a310>"
      ]
     },
     "execution_count": 85,
     "metadata": {},
     "output_type": "execute_result"
    }
   ],
   "source": [
    "# Original Dataframe copied to new dataframe to manipulate later.\n",
    "df = purchase_data\n",
    "df.head(1)\n",
    "\n",
    "#Assigning the age column to age range by doing a pd cut using the given bins from previous example.\n",
    "#This is to list what range each individual belongs in so later can do a count.\n",
    "df['Age Range'] = pd.cut(df.Age, bins=bins,labels=groups)\n",
    "df.head(1)\n",
    "\n",
    "#Grouped the dataframe by age range and did a value count to get a count for each category \n",
    "#and assigned them into their appropriate range category index.\n",
    "df_groupby = df.groupby('Age Range')\n",
    "ageCount = df['Age Range'].value_counts()\n",
    "\n",
    "#Created Dataframe to store and also grouping prices and using pandas functions to calculate the desired outcomes.\n",
    "Purchasing_Analysis_Age = pd.DataFrame({'Purchase Count':df_groupby.SN.count(),\n",
    "              'Average Purchase Price':df_groupby.Price.mean(),\n",
    "              'Total Purchase Value':df_groupby.Price.sum(),\n",
    "              'Average Total Purchase Per Person':df_groupby.Price.sum()/ Purchasing_Age})\n",
    "\n",
    "#Used formatting function to add dollar sign in front of each of the 3 columns values.\n",
    "Purchasing_Analysis_Age = Purchasing_Analysis_Age.style.format({\"Average Purchase Price\": \"${0:.2f}\", \n",
    "                                                                \"Total Purchase Value\": \"${0:.2f}\", \n",
    "                                                                \"Average Total Purchase Per Person\": \"${0:.2f}\"})\n",
    "\n",
    "Purchasing_Analysis_Age"
   ]
  },
  {
   "cell_type": "markdown",
   "metadata": {},
   "source": [
    "* Run basic calculations to obtain the results in the table below\n",
    "\n",
    "\n",
    "* Create a summary data frame to hold the results\n",
    "\n",
    "\n",
    "* Sort the total purchase value column in descending order\n",
    "\n",
    "\n",
    "* Optional: give the displayed data cleaner formatting\n",
    "\n",
    "\n",
    "* Display a preview of the summary data frame\n",
    "\n"
   ]
  },
  {
   "cell_type": "code",
   "execution_count": 86,
   "metadata": {},
   "outputs": [
    {
     "data": {
      "text/html": [
       "<style  type=\"text/css\" >\n",
       "</style><table id=\"T_c2eb85b2_c51c_11ea_b626_88e9fe7ae62f\" ><thead>    <tr>        <th class=\"blank level0\" ></th>        <th class=\"col_heading level0 col0\" >Purchase Count</th>        <th class=\"col_heading level0 col1\" >Average Purchase Price</th>        <th class=\"col_heading level0 col2\" >Total Purchase Value</th>    </tr>    <tr>        <th class=\"index_name level0\" >SN</th>        <th class=\"blank\" ></th>        <th class=\"blank\" ></th>        <th class=\"blank\" ></th>    </tr></thead><tbody>\n",
       "                <tr>\n",
       "                        <th id=\"T_c2eb85b2_c51c_11ea_b626_88e9fe7ae62flevel0_row0\" class=\"row_heading level0 row0\" >Lisosia93</th>\n",
       "                        <td id=\"T_c2eb85b2_c51c_11ea_b626_88e9fe7ae62frow0_col0\" class=\"data row0 col0\" >5</td>\n",
       "                        <td id=\"T_c2eb85b2_c51c_11ea_b626_88e9fe7ae62frow0_col1\" class=\"data row0 col1\" >$3.79</td>\n",
       "                        <td id=\"T_c2eb85b2_c51c_11ea_b626_88e9fe7ae62frow0_col2\" class=\"data row0 col2\" >$18.96</td>\n",
       "            </tr>\n",
       "            <tr>\n",
       "                        <th id=\"T_c2eb85b2_c51c_11ea_b626_88e9fe7ae62flevel0_row1\" class=\"row_heading level0 row1\" >Idastidru52</th>\n",
       "                        <td id=\"T_c2eb85b2_c51c_11ea_b626_88e9fe7ae62frow1_col0\" class=\"data row1 col0\" >4</td>\n",
       "                        <td id=\"T_c2eb85b2_c51c_11ea_b626_88e9fe7ae62frow1_col1\" class=\"data row1 col1\" >$3.86</td>\n",
       "                        <td id=\"T_c2eb85b2_c51c_11ea_b626_88e9fe7ae62frow1_col2\" class=\"data row1 col2\" >$15.45</td>\n",
       "            </tr>\n",
       "            <tr>\n",
       "                        <th id=\"T_c2eb85b2_c51c_11ea_b626_88e9fe7ae62flevel0_row2\" class=\"row_heading level0 row2\" >Chamjask73</th>\n",
       "                        <td id=\"T_c2eb85b2_c51c_11ea_b626_88e9fe7ae62frow2_col0\" class=\"data row2 col0\" >3</td>\n",
       "                        <td id=\"T_c2eb85b2_c51c_11ea_b626_88e9fe7ae62frow2_col1\" class=\"data row2 col1\" >$4.61</td>\n",
       "                        <td id=\"T_c2eb85b2_c51c_11ea_b626_88e9fe7ae62frow2_col2\" class=\"data row2 col2\" >$13.83</td>\n",
       "            </tr>\n",
       "            <tr>\n",
       "                        <th id=\"T_c2eb85b2_c51c_11ea_b626_88e9fe7ae62flevel0_row3\" class=\"row_heading level0 row3\" >Iral74</th>\n",
       "                        <td id=\"T_c2eb85b2_c51c_11ea_b626_88e9fe7ae62frow3_col0\" class=\"data row3 col0\" >4</td>\n",
       "                        <td id=\"T_c2eb85b2_c51c_11ea_b626_88e9fe7ae62frow3_col1\" class=\"data row3 col1\" >$3.40</td>\n",
       "                        <td id=\"T_c2eb85b2_c51c_11ea_b626_88e9fe7ae62frow3_col2\" class=\"data row3 col2\" >$13.62</td>\n",
       "            </tr>\n",
       "            <tr>\n",
       "                        <th id=\"T_c2eb85b2_c51c_11ea_b626_88e9fe7ae62flevel0_row4\" class=\"row_heading level0 row4\" >Iskadarya95</th>\n",
       "                        <td id=\"T_c2eb85b2_c51c_11ea_b626_88e9fe7ae62frow4_col0\" class=\"data row4 col0\" >3</td>\n",
       "                        <td id=\"T_c2eb85b2_c51c_11ea_b626_88e9fe7ae62frow4_col1\" class=\"data row4 col1\" >$4.37</td>\n",
       "                        <td id=\"T_c2eb85b2_c51c_11ea_b626_88e9fe7ae62frow4_col2\" class=\"data row4 col2\" >$13.10</td>\n",
       "            </tr>\n",
       "    </tbody></table>"
      ],
      "text/plain": [
       "<pandas.io.formats.style.Styler at 0x11281eed0>"
      ]
     },
     "execution_count": 86,
     "metadata": {},
     "output_type": "execute_result"
    }
   ],
   "source": [
    "#Filtered necessary columns to manipulate further and assigned to df.\n",
    "df = purchase_data[[\"SN\",\"Item ID\", \"Item Name\", \"Price\"]]\n",
    "\n",
    "#groupby() for 'SN' as this will be the index.\n",
    "df_groupby = df.groupby([\"SN\"])\n",
    "\n",
    "#Used each Dataframe and filtered each column to compute the following variables.\n",
    "Purchase_Count = df_groupby[\"SN\"].count()\n",
    "Average_Purchase_Price = df_groupby[\"Price\"].mean().round(2)\n",
    "Total_Purchase_Value = df_groupby[\"Price\"].sum()\n",
    "\n",
    "#Stored the variables results in the Dataframe using dictionary.\n",
    "df = pd.DataFrame({\"Purchase Count\": Purchase_Count,\n",
    "                  \"Average Purchase Price\": Average_Purchase_Price, \n",
    "                  \"Total Purchase Value\":Total_Purchase_Value}).sort_values(by = \"Total Purchase Value\",\n",
    "                                                                            ascending = False)\n",
    "\n",
    "#Formatted two of the columns to display the dollar sign to denote as currency.\n",
    "df = df.head().style.format({\"Average Purchase Price\": \"${0:.2f}\", \n",
    "                 \"Total Purchase Value\": \"${0:.2f}\"})\n",
    "df"
   ]
  },
  {
   "cell_type": "markdown",
   "metadata": {},
   "source": [
    "## Most Popular Items"
   ]
  },
  {
   "cell_type": "markdown",
   "metadata": {},
   "source": [
    "* Retrieve the Item ID, Item Name, and Item Price columns\n",
    "\n",
    "\n",
    "* Group by Item ID and Item Name. Perform calculations to obtain purchase count, item price, and total purchase value\n",
    "\n",
    "\n",
    "* Create a summary data frame to hold the results\n",
    "\n",
    "\n",
    "* Sort the purchase count column in descending order\n",
    "\n",
    "\n",
    "* Optional: give the displayed data cleaner formatting\n",
    "\n",
    "\n",
    "* Display a preview of the summary data frame\n",
    "\n"
   ]
  },
  {
   "cell_type": "code",
   "execution_count": 87,
   "metadata": {},
   "outputs": [
    {
     "data": {
      "text/html": [
       "<style  type=\"text/css\" >\n",
       "</style><table id=\"T_c38320d4_c51c_11ea_b626_88e9fe7ae62f\" ><thead>    <tr>        <th class=\"blank\" ></th>        <th class=\"blank level0\" ></th>        <th class=\"col_heading level0 col0\" >Purchase Count</th>        <th class=\"col_heading level0 col1\" >Average Purchase Price</th>        <th class=\"col_heading level0 col2\" >Total Purchase Value</th>    </tr>    <tr>        <th class=\"index_name level0\" >Item ID</th>        <th class=\"index_name level1\" >Item Name</th>        <th class=\"blank\" ></th>        <th class=\"blank\" ></th>        <th class=\"blank\" ></th>    </tr></thead><tbody>\n",
       "                <tr>\n",
       "                        <th id=\"T_c38320d4_c51c_11ea_b626_88e9fe7ae62flevel0_row0\" class=\"row_heading level0 row0\" >92</th>\n",
       "                        <th id=\"T_c38320d4_c51c_11ea_b626_88e9fe7ae62flevel1_row0\" class=\"row_heading level1 row0\" >Final Critic</th>\n",
       "                        <td id=\"T_c38320d4_c51c_11ea_b626_88e9fe7ae62frow0_col0\" class=\"data row0 col0\" >13</td>\n",
       "                        <td id=\"T_c38320d4_c51c_11ea_b626_88e9fe7ae62frow0_col1\" class=\"data row0 col1\" >$4.61</td>\n",
       "                        <td id=\"T_c38320d4_c51c_11ea_b626_88e9fe7ae62frow0_col2\" class=\"data row0 col2\" >$59.99</td>\n",
       "            </tr>\n",
       "            <tr>\n",
       "                        <th id=\"T_c38320d4_c51c_11ea_b626_88e9fe7ae62flevel0_row1\" class=\"row_heading level0 row1\" >178</th>\n",
       "                        <th id=\"T_c38320d4_c51c_11ea_b626_88e9fe7ae62flevel1_row1\" class=\"row_heading level1 row1\" >Oathbreaker, Last Hope of the Breaking Storm</th>\n",
       "                        <td id=\"T_c38320d4_c51c_11ea_b626_88e9fe7ae62frow1_col0\" class=\"data row1 col0\" >12</td>\n",
       "                        <td id=\"T_c38320d4_c51c_11ea_b626_88e9fe7ae62frow1_col1\" class=\"data row1 col1\" >$4.23</td>\n",
       "                        <td id=\"T_c38320d4_c51c_11ea_b626_88e9fe7ae62frow1_col2\" class=\"data row1 col2\" >$50.76</td>\n",
       "            </tr>\n",
       "            <tr>\n",
       "                        <th id=\"T_c38320d4_c51c_11ea_b626_88e9fe7ae62flevel0_row2\" class=\"row_heading level0 row2\" >145</th>\n",
       "                        <th id=\"T_c38320d4_c51c_11ea_b626_88e9fe7ae62flevel1_row2\" class=\"row_heading level1 row2\" >Fiery Glass Crusader</th>\n",
       "                        <td id=\"T_c38320d4_c51c_11ea_b626_88e9fe7ae62frow2_col0\" class=\"data row2 col0\" >9</td>\n",
       "                        <td id=\"T_c38320d4_c51c_11ea_b626_88e9fe7ae62frow2_col1\" class=\"data row2 col1\" >$4.58</td>\n",
       "                        <td id=\"T_c38320d4_c51c_11ea_b626_88e9fe7ae62frow2_col2\" class=\"data row2 col2\" >$41.22</td>\n",
       "            </tr>\n",
       "            <tr>\n",
       "                        <th id=\"T_c38320d4_c51c_11ea_b626_88e9fe7ae62flevel0_row3\" class=\"row_heading level0 row3\" >132</th>\n",
       "                        <th id=\"T_c38320d4_c51c_11ea_b626_88e9fe7ae62flevel1_row3\" class=\"row_heading level1 row3\" >Persuasion</th>\n",
       "                        <td id=\"T_c38320d4_c51c_11ea_b626_88e9fe7ae62frow3_col0\" class=\"data row3 col0\" >9</td>\n",
       "                        <td id=\"T_c38320d4_c51c_11ea_b626_88e9fe7ae62frow3_col1\" class=\"data row3 col1\" >$3.22</td>\n",
       "                        <td id=\"T_c38320d4_c51c_11ea_b626_88e9fe7ae62frow3_col2\" class=\"data row3 col2\" >$28.99</td>\n",
       "            </tr>\n",
       "            <tr>\n",
       "                        <th id=\"T_c38320d4_c51c_11ea_b626_88e9fe7ae62flevel0_row4\" class=\"row_heading level0 row4\" >108</th>\n",
       "                        <th id=\"T_c38320d4_c51c_11ea_b626_88e9fe7ae62flevel1_row4\" class=\"row_heading level1 row4\" >Extraction, Quickblade Of Trembling Hands</th>\n",
       "                        <td id=\"T_c38320d4_c51c_11ea_b626_88e9fe7ae62frow4_col0\" class=\"data row4 col0\" >9</td>\n",
       "                        <td id=\"T_c38320d4_c51c_11ea_b626_88e9fe7ae62frow4_col1\" class=\"data row4 col1\" >$3.53</td>\n",
       "                        <td id=\"T_c38320d4_c51c_11ea_b626_88e9fe7ae62frow4_col2\" class=\"data row4 col2\" >$31.77</td>\n",
       "            </tr>\n",
       "    </tbody></table>"
      ],
      "text/plain": [
       "<pandas.io.formats.style.Styler at 0x112a64950>"
      ]
     },
     "execution_count": 87,
     "metadata": {},
     "output_type": "execute_result"
    }
   ],
   "source": [
    "#Filtered the original Dataframe with certain columns and stored into new df.\n",
    "#Used group() for two columns and set as index.\n",
    "df = purchase_data[[\"SN\",\"Item ID\", \"Item Name\", \"Price\"]]\n",
    "df = df.groupby([\"Item ID\", \"Item Name\"])\n",
    "\n",
    "#Calculated the following values using pandas functions and stored into a varaible.\n",
    "Purchase_Count = df[\"SN\"].count()\n",
    "Average_Purchase_Price = df[\"Price\"].mean().round(2)\n",
    "Total_Purchase_Value = df[\"Price\"].sum()\n",
    "\n",
    "#Created new Dataframe and stored values using a dictionary.\n",
    "#Also sorted the values by the column 'Purchase Count' and used the ascending parameter to list in descending order.\n",
    "df = pd.DataFrame({\"Purchase Count\": Purchase_Count,\n",
    "                  \"Average Purchase Price\": Average_Purchase_Price, \n",
    "                  \"Total Purchase Value\":Total_Purchase_Value}).sort_values(by = \"Purchase Count\",ascending = False)\n",
    "\n",
    "#Used formatting to add dollar sign and denote currency for the last two columns.\n",
    "df = df.head().style.format({\"Average Purchase Price\": \"${0:.2f}\", \n",
    "                 \"Total Purchase Value\": \"${0:.2f}\"})\n",
    "df"
   ]
  },
  {
   "cell_type": "markdown",
   "metadata": {},
   "source": [
    "## Most Profitable Items"
   ]
  },
  {
   "cell_type": "markdown",
   "metadata": {},
   "source": [
    "* Sort the above table by total purchase value in descending order\n",
    "\n",
    "\n",
    "* Optional: give the displayed data cleaner formatting\n",
    "\n",
    "\n",
    "* Display a preview of the data frame\n",
    "\n"
   ]
  },
  {
   "cell_type": "code",
   "execution_count": 88,
   "metadata": {
    "scrolled": true
   },
   "outputs": [
    {
     "data": {
      "text/html": [
       "<style  type=\"text/css\" >\n",
       "</style><table id=\"T_c5746042_c51c_11ea_b626_88e9fe7ae62f\" ><thead>    <tr>        <th class=\"blank\" ></th>        <th class=\"blank level0\" ></th>        <th class=\"col_heading level0 col0\" >Purchase Count</th>        <th class=\"col_heading level0 col1\" >Average Purchase Price</th>        <th class=\"col_heading level0 col2\" >Total Purchase Value</th>    </tr>    <tr>        <th class=\"index_name level0\" >Item ID</th>        <th class=\"index_name level1\" >Item Name</th>        <th class=\"blank\" ></th>        <th class=\"blank\" ></th>        <th class=\"blank\" ></th>    </tr></thead><tbody>\n",
       "                <tr>\n",
       "                        <th id=\"T_c5746042_c51c_11ea_b626_88e9fe7ae62flevel0_row0\" class=\"row_heading level0 row0\" >92</th>\n",
       "                        <th id=\"T_c5746042_c51c_11ea_b626_88e9fe7ae62flevel1_row0\" class=\"row_heading level1 row0\" >Final Critic</th>\n",
       "                        <td id=\"T_c5746042_c51c_11ea_b626_88e9fe7ae62frow0_col0\" class=\"data row0 col0\" >13</td>\n",
       "                        <td id=\"T_c5746042_c51c_11ea_b626_88e9fe7ae62frow0_col1\" class=\"data row0 col1\" >$4.61</td>\n",
       "                        <td id=\"T_c5746042_c51c_11ea_b626_88e9fe7ae62frow0_col2\" class=\"data row0 col2\" >$59.99</td>\n",
       "            </tr>\n",
       "            <tr>\n",
       "                        <th id=\"T_c5746042_c51c_11ea_b626_88e9fe7ae62flevel0_row1\" class=\"row_heading level0 row1\" >178</th>\n",
       "                        <th id=\"T_c5746042_c51c_11ea_b626_88e9fe7ae62flevel1_row1\" class=\"row_heading level1 row1\" >Oathbreaker, Last Hope of the Breaking Storm</th>\n",
       "                        <td id=\"T_c5746042_c51c_11ea_b626_88e9fe7ae62frow1_col0\" class=\"data row1 col0\" >12</td>\n",
       "                        <td id=\"T_c5746042_c51c_11ea_b626_88e9fe7ae62frow1_col1\" class=\"data row1 col1\" >$4.23</td>\n",
       "                        <td id=\"T_c5746042_c51c_11ea_b626_88e9fe7ae62frow1_col2\" class=\"data row1 col2\" >$50.76</td>\n",
       "            </tr>\n",
       "            <tr>\n",
       "                        <th id=\"T_c5746042_c51c_11ea_b626_88e9fe7ae62flevel0_row2\" class=\"row_heading level0 row2\" >82</th>\n",
       "                        <th id=\"T_c5746042_c51c_11ea_b626_88e9fe7ae62flevel1_row2\" class=\"row_heading level1 row2\" >Nirvana</th>\n",
       "                        <td id=\"T_c5746042_c51c_11ea_b626_88e9fe7ae62frow2_col0\" class=\"data row2 col0\" >9</td>\n",
       "                        <td id=\"T_c5746042_c51c_11ea_b626_88e9fe7ae62frow2_col1\" class=\"data row2 col1\" >$4.90</td>\n",
       "                        <td id=\"T_c5746042_c51c_11ea_b626_88e9fe7ae62frow2_col2\" class=\"data row2 col2\" >$44.10</td>\n",
       "            </tr>\n",
       "            <tr>\n",
       "                        <th id=\"T_c5746042_c51c_11ea_b626_88e9fe7ae62flevel0_row3\" class=\"row_heading level0 row3\" >145</th>\n",
       "                        <th id=\"T_c5746042_c51c_11ea_b626_88e9fe7ae62flevel1_row3\" class=\"row_heading level1 row3\" >Fiery Glass Crusader</th>\n",
       "                        <td id=\"T_c5746042_c51c_11ea_b626_88e9fe7ae62frow3_col0\" class=\"data row3 col0\" >9</td>\n",
       "                        <td id=\"T_c5746042_c51c_11ea_b626_88e9fe7ae62frow3_col1\" class=\"data row3 col1\" >$4.58</td>\n",
       "                        <td id=\"T_c5746042_c51c_11ea_b626_88e9fe7ae62frow3_col2\" class=\"data row3 col2\" >$41.22</td>\n",
       "            </tr>\n",
       "            <tr>\n",
       "                        <th id=\"T_c5746042_c51c_11ea_b626_88e9fe7ae62flevel0_row4\" class=\"row_heading level0 row4\" >103</th>\n",
       "                        <th id=\"T_c5746042_c51c_11ea_b626_88e9fe7ae62flevel1_row4\" class=\"row_heading level1 row4\" >Singed Scalpel</th>\n",
       "                        <td id=\"T_c5746042_c51c_11ea_b626_88e9fe7ae62frow4_col0\" class=\"data row4 col0\" >8</td>\n",
       "                        <td id=\"T_c5746042_c51c_11ea_b626_88e9fe7ae62frow4_col1\" class=\"data row4 col1\" >$4.35</td>\n",
       "                        <td id=\"T_c5746042_c51c_11ea_b626_88e9fe7ae62frow4_col2\" class=\"data row4 col2\" >$34.80</td>\n",
       "            </tr>\n",
       "    </tbody></table>"
      ],
      "text/plain": [
       "<pandas.io.formats.style.Styler at 0x112a4cb10>"
      ]
     },
     "execution_count": 88,
     "metadata": {},
     "output_type": "execute_result"
    }
   ],
   "source": [
    "#Copied the previouse dictionary Dataframe from previous problem rather than \n",
    "#assign to variable and call to avoid any sorting issues. \n",
    "#This time I sorted by 'Total Purchase Value' to get descending order from Highest to lowest.\n",
    "df = pd.DataFrame({\"Purchase Count\": Purchase_Count,\n",
    "                   \"Average Purchase Price\": Average_Purchase_Price, \n",
    "                   \"Total Purchase Value\":Total_Purchase_Value}).sort_values(by=\"Total Purchase Value\", \n",
    "                                                          ascending = False)\n",
    "\n",
    "\n",
    "#Used formatting to add dollar sign and denote currency for the last two columns.\n",
    "df = df.head().style.format({\"Average Purchase Price\": \"${0:.2f}\", \n",
    "                 \"Total Purchase Value\": \"${0:.2f}\"})\n",
    "\n",
    "df"
   ]
  },
  {
   "cell_type": "code",
   "execution_count": null,
   "metadata": {},
   "outputs": [],
   "source": []
  }
 ],
 "metadata": {
  "anaconda-cloud": {},
  "kernel_info": {
   "name": "python3"
  },
  "kernelspec": {
   "display_name": "Python 3",
   "language": "python",
   "name": "python3"
  },
  "language_info": {
   "codemirror_mode": {
    "name": "ipython",
    "version": 3
   },
   "file_extension": ".py",
   "mimetype": "text/x-python",
   "name": "python",
   "nbconvert_exporter": "python",
   "pygments_lexer": "ipython3",
   "version": "3.7.7"
  },
  "latex_envs": {
   "LaTeX_envs_menu_present": true,
   "autoclose": false,
   "autocomplete": true,
   "bibliofile": "biblio.bib",
   "cite_by": "apalike",
   "current_citInitial": 1,
   "eqLabelWithNumbers": true,
   "eqNumInitial": 1,
   "hotkeys": {
    "equation": "Ctrl-E",
    "itemize": "Ctrl-I"
   },
   "labels_anchors": false,
   "latex_user_defs": false,
   "report_style_numbering": false,
   "user_envs_cfg": false
  },
  "nteract": {
   "version": "0.2.0"
  }
 },
 "nbformat": 4,
 "nbformat_minor": 4
}
